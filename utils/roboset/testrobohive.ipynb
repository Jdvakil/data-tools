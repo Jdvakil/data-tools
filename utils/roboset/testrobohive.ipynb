{
 "cells": [
  {
   "cell_type": "code",
   "execution_count": 6,
   "metadata": {},
   "outputs": [],
   "source": [
    "import h5py\n",
    "path = \"/mnt/raid5/data/jaydv/bin_pick_data_30029/rp05_roboset/robopen05_soft_toys20230527-014358_paths_roboset.h5\""
   ]
  },
  {
   "cell_type": "code",
   "execution_count": 8,
   "metadata": {},
   "outputs": [
    {
     "data": {
      "text/plain": [
       "<KeysViewHDF5 ['ctrl_arm', 'ctrl_ee', 'd_left', 'd_right', 'd_top', 'qp_arm', 'qp_ee', 'qv_arm', 'qv_ee', 'rgb_left', 'rgb_right', 'rgb_top', 'time']>"
      ]
     },
     "execution_count": 8,
     "metadata": {},
     "output_type": "execute_result"
    }
   ],
   "source": [
    "h5 = h5py.File(path, 'r')\n",
    "h5['Trial0/data'].keys()\n",
    "\n"
   ]
  },
  {
   "cell_type": "code",
   "execution_count": 4,
   "metadata": {},
   "outputs": [],
   "source": [
    "import numpy as np\n",
    "d = {}\n",
    "var = []\n",
    "for i in range(h5_0['time'].shape[0]):\n",
    "    var.append(h5_0['env_infos/proprio_dict']['qp'][i][:7])\n",
    "d['qp_arm'] = np.asarray(var)"
   ]
  },
  {
   "cell_type": "code",
   "execution_count": 6,
   "metadata": {},
   "outputs": [
    {
     "name": "stdout",
     "output_type": "stream",
     "text": [
      "Saved: test.h5\n"
     ]
    }
   ],
   "source": [
    "from logger import Robo_logger as Trace\n",
    "trace = Trace('roboset')\n",
    "trace.create_group(\"Trial0\")\n",
    "trace.append_datum_post_process(group_key='Trial0', dataset_key='data', dataset_val=d)\n",
    "trace.flatten()\n",
    "trace.save(trace_name=\"test.h5\")"
   ]
  },
  {
   "cell_type": "code",
   "execution_count": 9,
   "metadata": {},
   "outputs": [
    {
     "data": {
      "text/plain": [
       "<KeysViewHDF5 ['data']>"
      ]
     },
     "execution_count": 9,
     "metadata": {},
     "output_type": "execute_result"
    }
   ],
   "source": [
    "p = \"test.h5\"\n",
    "h5 = h5py.File(p)\n",
    "h5_0 = h5['Trial0']\n",
    "h5_0.keys()"
   ]
  },
  {
   "cell_type": "code",
   "execution_count": 27,
   "metadata": {},
   "outputs": [],
   "source": [
    "import os\n",
    "def check_file_extension(file_path, extension):\n",
    "    _, file_ext = os.path.splitext(file_path)\n",
    "    return file_ext.lower() == extension"
   ]
  },
  {
   "cell_type": "code",
   "execution_count": 5,
   "metadata": {},
   "outputs": [
    {
     "data": {
      "text/plain": [
       "dict_keys(['time', 'observations', 'actions', 'rewards', 'env_infos/time', 'env_infos/rwd_dense', 'env_infos/rwd_sparse', 'env_infos/solved', 'env_infos/done', 'env_infos/obs_dict/time', 'env_infos/obs_dict/qp', 'env_infos/obs_dict/qv', 'env_infos/obs_dict/grasp_pos', 'env_infos/obs_dict/grasp_rot', 'env_infos/obs_dict/object_err', 'env_infos/obs_dict/target_err', 'env_infos/visual_dict/time', 'env_infos/visual_dict/rgb:left_cam:240x424:2d', 'env_infos/visual_dict/d:left_cam:240x424:2d', 'env_infos/visual_dict/rgb:right_cam:240x424:2d', 'env_infos/visual_dict/d:right_cam:240x424:2d', 'env_infos/visual_dict/rgb:top_cam:240x424:2d', 'env_infos/visual_dict/d:top_cam:240x424:2d', 'env_infos/proprio_dict/qp', 'env_infos/proprio_dict/qv', 'env_infos/proprio_dict/grasp_pos', 'env_infos/proprio_dict/grasp_rot', 'env_infos/rwd_dict/object_dist', 'env_infos/rwd_dict/target_dist', 'env_infos/rwd_dict/bonus', 'env_infos/rwd_dict/penalty', 'env_infos/rwd_dict/sparse', 'env_infos/rwd_dict/solved', 'env_infos/rwd_dict/done', 'env_infos/rwd_dict/dense', 'env_infos/state/time', 'env_infos/state/qpos', 'env_infos/state/qvel', 'env_infos/state/act', 'env_infos/state/mocap_pos', 'env_infos/state/mocap_quat', 'env_infos/state/site_pos', 'env_infos/state/site_quat', 'env_infos/state/body_pos', 'env_infos/state/body_quat', 'done'])"
      ]
     },
     "execution_count": 5,
     "metadata": {},
     "output_type": "execute_result"
    }
   ],
   "source": [
    "import pickle\n",
    "#path = \"/mnt/raid5/data/plancaster/robohive_base/demonstrations/franka-FrankaBinPickReal_v2d-smallblock/robopen07_20230406-222214_paths.pickle\"\n",
    "path = \"/mnt/raid5/data/plancaster/robohive_base/demonstrations/franka-FrankaBinReorientReal_v2d-no-back-pad/robopen08_20230507-173635_paths.pickle\"\n",
    "with open(path, 'rb') as f:\n",
    "    obj = pickle.load(f)\n",
    "    obj=obj[list(obj.keys())[0]]\n",
    "obj['Trial0'].keys()"
   ]
  },
  {
   "cell_type": "code",
   "execution_count": 5,
   "metadata": {},
   "outputs": [
    {
     "data": {
      "text/plain": [
       "(array([-0.04556,  0.04752,  0.01179, -1.861  , -0.0622 ,  0.258  ,\n",
       "        -0.06866], dtype=float16),\n",
       " array([-0.0671  ,  0.0541  , -0.00355 , -1.858   ,  0.010315,  0.256   ,\n",
       "        -0.06824 ], dtype=float16))"
      ]
     },
     "execution_count": 5,
     "metadata": {},
     "output_type": "execute_result"
    }
   ],
   "source": [
    "import h5py\n",
    "path = \"/mnt/raid5/data/roboset/v0.4/setting_table/scene_1/setting_table_open_drawer_scene_1/setting_table_open_drawer_scene_1_20230307-162547.h5\"\n",
    "h5 = h5py.File(path, 'r')\n",
    "h5['Trial10/data/qp_arm'][0], h5['Trial1/data/qp_arm'][0]"
   ]
  },
  {
   "cell_type": "code",
   "execution_count": null,
   "metadata": {},
   "outputs": [],
   "source": []
  }
 ],
 "metadata": {
  "kernelspec": {
   "display_name": "home-robot",
   "language": "python",
   "name": "python3"
  },
  "language_info": {
   "codemirror_mode": {
    "name": "ipython",
    "version": 3
   },
   "file_extension": ".py",
   "mimetype": "text/x-python",
   "name": "python",
   "nbconvert_exporter": "python",
   "pygments_lexer": "ipython3",
   "version": "3.8.15"
  },
  "orig_nbformat": 4
 },
 "nbformat": 4,
 "nbformat_minor": 2
}
